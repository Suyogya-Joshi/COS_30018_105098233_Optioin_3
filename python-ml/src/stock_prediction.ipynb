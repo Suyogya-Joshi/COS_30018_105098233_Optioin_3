{
 "cells": [
  {
   "cell_type": "markdown",
   "id": "72662e32",
   "metadata": {},
   "source": [
    "File: stock_prediction.py\n",
    "\n",
    "Original Authors: Bao Vo and Cheong Koo\n",
    "\n",
    " Original Dates: 14/07/2021 (v1); 19/07/2021 (v2); 02/07/2024 (v3)\n",
    "\n",
    "-----------------------------------------------------------------------\n",
    " Code adapted from:\n",
    "  Title: Predicting Stock Prices with Python (NeuralNine)\n",
    "\n",
    "\n",
    "   YouTube: https://www.youtube.com/watch?v=PuZY9q-aKLw\n",
    "  Reference repo (tutorials by x4nth055 / The Python Code): see LICENSE in repo\n",
    "\n",
    "\n",
    "------------------------------------------------------------------------\n",
    " Modifications: \n",
    "  Modified by: Suyogya “Rex” Raj Joshi\n",
    "\n",
    "  Date: 28/08/2025\n",
    "\n",
    "  Summary of changes: Switched to yfinance download, adjusted train/test dates,\n",
    "\n",
    "  clarified scaling/reshaping comments, tweaked LSTM stack & dropout, added\n",
    "\n",
    "  plotting, etc. (list your real changes briefly)\n",
    "\n",
    "------------------------------------------------------------------------------------------------\n",
    "License:\n",
    "\n",
    "  Retain original license/notice from any borrowed sources. If you publish this\n",
    "\n",
    "  project, include the upstream LICENSE files and attribution in your README."
   ]
  },
  {
   "cell_type": "code",
   "execution_count": null,
   "id": "7938fe1d",
   "metadata": {},
   "outputs": [],
   "source": []
  },
  {
   "cell_type": "code",
   "execution_count": 28,
   "id": "ce81e65a",
   "metadata": {},
   "outputs": [],
   "source": [
    "import os \n",
    "import numpy as np\n",
    "import matplotlib.pyplot as plt\n",
    "import pandas as pd\n",
    "import pandas_datareader as web\n",
    "import datetime as dt\n",
    "import tensorflow as tf\n",
    "import yfinance as yf"
   ]
  },
  {
   "cell_type": "code",
   "execution_count": 29,
   "id": "6dc43882",
   "metadata": {},
   "outputs": [],
   "source": [
    "from sklearn.preprocessing import MinMaxScaler\n",
    "from sklearn.model_selection import train_test_split\n",
    "from tensorflow.keras.models import Sequential\n",
    "from tensorflow.keras.layers import Dense, Dropout, LSTM, InputLayer"
   ]
  },
  {
   "cell_type": "code",
   "execution_count": 34,
   "id": "ac2b30f2",
   "metadata": {},
   "outputs": [],
   "source": [
    "# Defining a function that loads the data\n",
    "def load_data(COMPANY: str, TRAIN_START: str, TRAIN_END: str, test_size: float = 0.2, data_dir: str = \"data\"):\n",
    "    # Ensuring data directory exists\n",
    "    os.makedirs(data_dir, exist_ok=True)\n",
    "    DATA_PATH = os.path.join(data_dir, f\"{COMPANY}_{TRAIN_START}_{TRAIN_END}.csv\")\n",
    "\n",
    "    # Loading data if present, else downloading and saving\n",
    "    if os.path.exists(DATA_PATH):\n",
    "        data = pd.read_csv(DATA_PATH, index_col=0, parse_dates=True)\n",
    "    else:\n",
    "        data = yf.download(COMPANY, start=TRAIN_START, end=TRAIN_END)\n",
    "        data.to_csv(DATA_PATH)\n",
    "\n",
    "    print(\"------------------------------------------------------------\")\n",
    "    print(\"Initial output with the NaN\")\n",
    "    print(data.head(10))  # First 10 rows\n",
    "    print(\"---------------------------------------------------------------------\")\n",
    "    print(data.isna().sum())  # Checking NaN Or missing values.\n",
    "    print(\"=======================================================================================================================\")\n",
    "    \n",
    "    # Removing NaN values\n",
    "    data = data.dropna()\n",
    "\n",
    "    # Quick check\n",
    "    print(\"---------------------------------------------------------------------\")\n",
    "    print(\"Final output without the NaN\")\n",
    "    print(data.isna().sum())  # Checking the NaN after removing it\n",
    "\n",
    "    data = data.rename(columns={\n",
    "    \"Open_AAPL\": \"Open\",\n",
    "    \"High_AAPL\": \"High\",\n",
    "    \"Low_AAPL\": \"Low\",\n",
    "    \"Close_AAPL\": \"Close\",\n",
    "    \"Volume_AAPL\": \"Volume\",\n",
    "})\n",
    "\n",
    "    # Ensure columns are numeric before calculation\n",
    "    for col in [\"Open\", \"High\", \"Low\", \"Close\"]:\n",
    "        data[col] = pd.to_numeric(data[col], errors='coerce')\n",
    "\n",
    "    # Add OHLC average column and set PRICE_VALUE\n",
    "    data[\"OHLC_Avg\"] = (data[\"Open\"] + data[\"High\"] + data[\"Low\"] + data[\"Close\"]) / 4\n",
    "    PRICE_VALUE = \"OHLC_Avg\"\n",
    "\n",
    "    # Scaling the data\n",
    "    # Choosing the price column (i.e OHLC_Avg) and reshape it into 2D\n",
    "    values = data[PRICE_VALUE].values.reshape(-1, 1)\n",
    "    # Creating scaler\n",
    "    scaler = MinMaxScaler(feature_range=(0, 1))\n",
    "    # Fitting and transforming the scaler.\n",
    "    scaled_data = scaler.fit_transform(values)\n",
    "\n",
    "    # Splitting the dataset into training and testing set.\n",
    "    train, test = train_test_split(scaled_data, test_size=test_size, shuffle=False)\n",
    "\n",
    "    return data, train, test, scaler, PRICE_VALUE, scaled_data"
   ]
  },
  {
   "cell_type": "code",
   "execution_count": 35,
   "id": "55ea5170",
   "metadata": {},
   "outputs": [
    {
     "name": "stdout",
     "output_type": "stream",
     "text": [
      "------------------------------------------------------------\n",
      "Initial output with the NaN\n",
      "                        Close               High                Low  \\\n",
      "Price                                                                 \n",
      "Ticker                   AAPL               AAPL               AAPL   \n",
      "Date                      NaN                NaN                NaN   \n",
      "2020-01-02  72.53851318359375  72.59889150198023  71.29230380764884   \n",
      "2020-01-03  71.83329772949219  72.59406313642577  71.60869213351766   \n",
      "2020-01-06  72.40567016601562   72.4443131708714  70.70300468370534   \n",
      "2020-01-07   72.0651626586914  72.67135607636844  71.84538465436648   \n",
      "2020-01-08  73.22441101074219  73.52630260685811  71.76808624589498   \n",
      "2020-01-09  74.77975463867188  74.97296230565743   73.9513658951312   \n",
      "2020-01-10  74.94881439208984  75.51396196419593  74.44647000292952   \n",
      "2020-01-13    76.550048828125  76.57661912211044  75.14685723047293   \n",
      "\n",
      "                         Open     Volume  \n",
      "Price                                     \n",
      "Ticker                   AAPL       AAPL  \n",
      "Date                      NaN        NaN  \n",
      "2020-01-02  71.54588979671196  135480400  \n",
      "2020-01-03  71.76567430155144  146322800  \n",
      "2020-01-06  70.95418053006813  118387200  \n",
      "2020-01-07  72.41535254834196  108872000  \n",
      "2020-01-08  71.76808624589498  132079200  \n",
      "2020-01-09  74.20253438813242  170108400  \n",
      "2020-01-10  75.01402769601006  140644800  \n",
      "2020-01-13  75.26520375211625  121532000  \n",
      "---------------------------------------------------------------------\n",
      "Close     1\n",
      "High      1\n",
      "Low       1\n",
      "Open      1\n",
      "Volume    1\n",
      "dtype: int64\n",
      "=======================================================================================================================\n",
      "---------------------------------------------------------------------\n",
      "Final output without the NaN\n",
      "Close     0\n",
      "High      0\n",
      "Low       0\n",
      "Open      0\n",
      "Volume    0\n",
      "dtype: int64\n",
      "Dataset shape: (901, 6)\n",
      "Train shape: (720, 1)\n",
      "Test shape: (181, 1)\n",
      "Using PRICE_VALUE: OHLC_Avg\n"
     ]
    },
    {
     "name": "stderr",
     "output_type": "stream",
     "text": [
      "C:\\Users\\raj23\\AppData\\Local\\Temp\\ipykernel_17416\\2188520549.py:9: UserWarning: Could not infer format, so each element will be parsed individually, falling back to `dateutil`. To ensure parsing is consistent and as-expected, please specify a format.\n",
      "  data = pd.read_csv(DATA_PATH, index_col=0, parse_dates=True)\n"
     ]
    }
   ],
   "source": [
    "TRAIN_START = '2020-01-01'     # Start date to read\n",
    "TRAIN_END = '2023-08-01'       # End date to read\n",
    "COMPANY = \"AAPL\" #Ticker for apple\n",
    "\n",
    "# Calling the function to load the dataset and save the return value to specific variable\n",
    "data, train, test, scaler, PRICE_VALUE, scaled_data = load_data(\n",
    "    COMPANY, TRAIN_START, TRAIN_END, test_size=0.2\n",
    ")\n",
    "\n",
    "print(\"Dataset shape:\", data.shape)\n",
    "print(\"Train shape:\", train.shape)\n",
    "print(\"Test shape:\", test.shape)\n",
    "print(\"Using PRICE_VALUE:\", PRICE_VALUE)"
   ]
  },
  {
   "cell_type": "code",
   "execution_count": 89,
   "id": "3949c749",
   "metadata": {},
   "outputs": [
    {
     "data": {
      "application/vnd.microsoft.datawrangler.viewer.v0+json": {
       "columns": [
        {
         "name": "index",
         "rawType": "int64",
         "type": "integer"
        },
        {
         "name": "Date_",
         "rawType": "datetime64[ns]",
         "type": "datetime"
        },
        {
         "name": "Close_AAPL",
         "rawType": "float64",
         "type": "float"
        },
        {
         "name": "High_AAPL",
         "rawType": "float64",
         "type": "float"
        },
        {
         "name": "Low_AAPL",
         "rawType": "float64",
         "type": "float"
        },
        {
         "name": "Open_AAPL",
         "rawType": "float64",
         "type": "float"
        },
        {
         "name": "Volume_AAPL",
         "rawType": "int64",
         "type": "integer"
        }
       ],
       "ref": "ec8f00b1-2368-4a35-a66a-5c99959588dc",
       "rows": [
        [
         "0",
         "2020-01-02 00:00:00",
         "72.53851318359375",
         "72.59889150198023",
         "71.29230380764884",
         "71.54588979671196",
         "135480400"
        ],
        [
         "1",
         "2020-01-03 00:00:00",
         "71.83329772949219",
         "72.59406313642577",
         "71.60869213351766",
         "71.76567430155144",
         "146322800"
        ],
        [
         "2",
         "2020-01-06 00:00:00",
         "72.40567016601562",
         "72.4443131708714",
         "70.70300468370534",
         "70.95418053006813",
         "118387200"
        ],
        [
         "3",
         "2020-01-07 00:00:00",
         "72.0651626586914",
         "72.67135607636844",
         "71.84538465436648",
         "72.41535254834196",
         "108872000"
        ],
        [
         "4",
         "2020-01-08 00:00:00",
         "73.22441101074219",
         "73.52630260685811",
         "71.76808624589498",
         "71.76808624589498",
         "132079200"
        ]
       ],
       "shape": {
        "columns": 6,
        "rows": 5
       }
      },
      "text/html": [
       "<div>\n",
       "<style scoped>\n",
       "    .dataframe tbody tr th:only-of-type {\n",
       "        vertical-align: middle;\n",
       "    }\n",
       "\n",
       "    .dataframe tbody tr th {\n",
       "        vertical-align: top;\n",
       "    }\n",
       "\n",
       "    .dataframe thead th {\n",
       "        text-align: right;\n",
       "    }\n",
       "</style>\n",
       "<table border=\"1\" class=\"dataframe\">\n",
       "  <thead>\n",
       "    <tr style=\"text-align: right;\">\n",
       "      <th></th>\n",
       "      <th>Date_</th>\n",
       "      <th>Close_AAPL</th>\n",
       "      <th>High_AAPL</th>\n",
       "      <th>Low_AAPL</th>\n",
       "      <th>Open_AAPL</th>\n",
       "      <th>Volume_AAPL</th>\n",
       "    </tr>\n",
       "  </thead>\n",
       "  <tbody>\n",
       "    <tr>\n",
       "      <th>0</th>\n",
       "      <td>2020-01-02</td>\n",
       "      <td>72.538513</td>\n",
       "      <td>72.598892</td>\n",
       "      <td>71.292304</td>\n",
       "      <td>71.545890</td>\n",
       "      <td>135480400</td>\n",
       "    </tr>\n",
       "    <tr>\n",
       "      <th>1</th>\n",
       "      <td>2020-01-03</td>\n",
       "      <td>71.833298</td>\n",
       "      <td>72.594063</td>\n",
       "      <td>71.608692</td>\n",
       "      <td>71.765674</td>\n",
       "      <td>146322800</td>\n",
       "    </tr>\n",
       "    <tr>\n",
       "      <th>2</th>\n",
       "      <td>2020-01-06</td>\n",
       "      <td>72.405670</td>\n",
       "      <td>72.444313</td>\n",
       "      <td>70.703005</td>\n",
       "      <td>70.954181</td>\n",
       "      <td>118387200</td>\n",
       "    </tr>\n",
       "    <tr>\n",
       "      <th>3</th>\n",
       "      <td>2020-01-07</td>\n",
       "      <td>72.065163</td>\n",
       "      <td>72.671356</td>\n",
       "      <td>71.845385</td>\n",
       "      <td>72.415353</td>\n",
       "      <td>108872000</td>\n",
       "    </tr>\n",
       "    <tr>\n",
       "      <th>4</th>\n",
       "      <td>2020-01-08</td>\n",
       "      <td>73.224411</td>\n",
       "      <td>73.526303</td>\n",
       "      <td>71.768086</td>\n",
       "      <td>71.768086</td>\n",
       "      <td>132079200</td>\n",
       "    </tr>\n",
       "  </tbody>\n",
       "</table>\n",
       "</div>"
      ],
      "text/plain": [
       "       Date_  Close_AAPL  High_AAPL   Low_AAPL  Open_AAPL  Volume_AAPL\n",
       "0 2020-01-02   72.538513  72.598892  71.292304  71.545890    135480400\n",
       "1 2020-01-03   71.833298  72.594063  71.608692  71.765674    146322800\n",
       "2 2020-01-06   72.405670  72.444313  70.703005  70.954181    118387200\n",
       "3 2020-01-07   72.065163  72.671356  71.845385  72.415353    108872000\n",
       "4 2020-01-08   73.224411  73.526303  71.768086  71.768086    132079200"
      ]
     },
     "execution_count": 89,
     "metadata": {},
     "output_type": "execute_result"
    }
   ],
   "source": [
    "apple_data = pd.read_csv(\"data/AAPL_2020-01-01_2023-08-01.csv\", header=[0,1], index_col=0, parse_dates=True)\n",
    "apple_data = apple_data.reset_index()\n",
    "# Flatten  column names into single strings like 'Close_AAPL'\n",
    "apple_data.columns = ['_'.join(col).strip() if isinstance(col, tuple) else col for col in apple_data.columns.values]\n",
    "# Preview first 5 rows\n",
    "apple_data.head()\n"
   ]
  },
  {
   "cell_type": "code",
   "execution_count": 85,
   "id": "817e266d",
   "metadata": {},
   "outputs": [],
   "source": [
    "\n",
    "def plot_candlestick(df, n=60, ticker=\"AAPL\"):\n",
    "\n",
    "    # last n rows\n",
    "    apple_data_small = df.tail(n).copy()\n",
    "\n",
    "    # making sure we have a Date column\n",
    "    if \"Date\" not in apple_data_small.columns:\n",
    "        apple_data_small[\"Date\"] = apple_data_small.index\n",
    "\n",
    "    # green and red subsets\n",
    "    green_df = apple_data_small[apple_data_small[\"Close_AAPL\"] > apple_data_small[\"Open_AAPL\"]]\n",
    "    red_df   = apple_data_small[apple_data_small[\"Close_AAPL\"] < apple_data_small[\"Open_AAPL\"]]\n",
    "\n",
    "    plt.figure(figsize=(15,7))\n",
    "\n",
    "    #  (high-low)\n",
    "    plt.vlines(apple_data_small[\"Date\"],\n",
    "               apple_data_small[\"Low_AAPL\"],\n",
    "               apple_data_small[\"High_AAPL\"],\n",
    "               color=\"grey\")\n",
    "\n",
    "    # green candles\n",
    "    plt.bar(green_df[\"Date\"],\n",
    "            green_df[\"Close_AAPL\"] - green_df[\"Open_AAPL\"],\n",
    "            bottom=green_df[\"Open_AAPL\"],\n",
    "            color=\"green\")\n",
    "\n",
    "    # red candles\n",
    "    plt.bar(red_df[\"Date\"],\n",
    "            red_df[\"Open_AAPL\"] - red_df[\"Close_AAPL\"],\n",
    "            bottom=red_df[\"Close_AAPL\"],\n",
    "            color=\"orangered\")\n",
    "\n",
    "    # labels and title\n",
    "    plt.xlabel(\"Date\")\n",
    "    plt.ylabel(\"Price ($)\")\n",
    "    plt.title(f\"{ticker} Candlestick Chart\")\n",
    "    ax = plt.gca()\n",
    "    ax.xaxis_date()\n",
    "    plt.xticks(rotation=45)\n",
    "    plt.show()\n"
   ]
  },
  {
   "cell_type": "code",
   "execution_count": 86,
   "id": "15d52c80",
   "metadata": {},
   "outputs": [
    {
     "data": {
      "image/png": "[encoded data removed]",
      "text/plain": [
       "<Figure size 1500x700 with 1 Axes>"
      ]
     },
     "metadata": {},
     "output_type": "display_data"
    }
   ],
   "source": [
    "plot_candlestick(apple_data, n=60, ticker=\"AAPL\")"
   ]
  },
  {
   "cell_type": "code",
   "execution_count": null,
   "id": "e6b701de",
   "metadata": {},
   "outputs": [],
   "source": [
    "\n",
    "def plot_boxplot(df, n=60, ticker=\"AAPL\"):\n",
    "    # last n rows\n",
    "    data = df.tail(n).copy()\n",
    "\n",
    "    # extracting relevant columns\n",
    "    prices = data[[\"Open_AAPL\", \"Close_AAPL\", \"High_AAPL\", \"Low_AAPL\"]]\n",
    "\n",
    "    plt.figure(figsize=(8,6))\n",
    "    plt.boxplot([prices[\"Open_AAPL\"],\n",
    "                 prices[\"Close_AAPL\"],\n",
    "                 prices[\"High_AAPL\"],\n",
    "                 prices[\"Low_AAPL\"]],\n",
    "                labels=[\"Open\", \"Close\", \"High\", \"Low\"],\n",
    "                patch_artist=True)\n",
    "\n",
    "    plt.title(f\"{ticker} Price Distribution (Last {n} Days)\")\n",
    "    plt.ylabel(\"Price ($)\")\n",
    "    plt.grid(alpha=0.3)\n",
    "    plt.show()\n"
   ]
  },
  {
   "cell_type": "code",
   "execution_count": 68,
   "id": "5292aa4c",
   "metadata": {},
   "outputs": [
    {
     "name": "stderr",
     "output_type": "stream",
     "text": [
      "C:\\Users\\raj23\\AppData\\Local\\Temp\\ipykernel_17416\\2061028724.py:9: MatplotlibDeprecationWarning: The 'labels' parameter of boxplot() has been renamed 'tick_labels' since Matplotlib 3.9; support for the old name will be dropped in 3.11.\n",
      "  plt.boxplot([prices[\"Open_AAPL\"],\n"
     ]
    },
    {
     "data": {
      "image/png": "[encoded data removed]",
      "text/plain": [
       "<Figure size 800x600 with 1 Axes>"
      ]
     },
     "metadata": {},
     "output_type": "display_data"
    }
   ],
   "source": [
    "plot_boxplot(apple_data, n=60, ticker=\"AAPL\")\n"
   ]
  },
  {
   "cell_type": "code",
   "execution_count": 29,
   "id": "3214e825",
   "metadata": {},
   "outputs": [],
   "source": [
    "# Number of days to look back to base the prediction\n",
    "PREDICTION_DAYS = 30 # Original"
   ]
  },
  {
   "cell_type": "code",
   "execution_count": 28,
   "id": "60b95236",
   "metadata": {},
   "outputs": [],
   "source": [
    "# To store the training data\n",
    "x_train = []\n",
    "y_train = []"
   ]
  },
  {
   "cell_type": "code",
   "execution_count": null,
   "id": "45ce0e3e",
   "metadata": {},
   "outputs": [],
   "source": [
    "scaled_data = scaled_data[:,0] # Turn the 2D array back to a 1D array\n",
    "# Prepare the data\n",
    "for x in range(PREDICTION_DAYS, len(scaled_data)):\n",
    "    x_train.append(scaled_data[x-PREDICTION_DAYS:x])\n",
    "    y_train.append(scaled_data[x])"
   ]
  },
  {
   "cell_type": "code",
   "execution_count": 36,
   "id": "f07969d9",
   "metadata": {},
   "outputs": [],
   "source": [
    "x_train, y_train = np.array(x_train), np.array(y_train) # Converting into numpy arrays"
   ]
  },
  {
   "cell_type": "code",
   "execution_count": 37,
   "id": "8b801b3f",
   "metadata": {},
   "outputs": [],
   "source": [
    "x_train = x_train.reshape(x_train.shape[0], x_train.shape[1], 1) #Reshaping X for LSTM\n"
   ]
  },
  {
   "cell_type": "code",
   "execution_count": 15,
   "id": "6287685d",
   "metadata": {},
   "outputs": [],
   "source": [
    "#------------------------------------------------------------------------------\n",
    "# Build the Model\n",
    "## TO DO:\n",
    "# 1) Check if data has been built before. \n",
    "# If so, load the saved data\n",
    "# If not, save the data into a directory\n",
    "# 2) Change the model to increase accuracy?\n",
    "#------------------------------------------------------------------------------\n",
    "model = Sequential() # Basic neural network\n",
    "# See: https://www.tensorflow.org/api_docs/python/tf/keras/Sequential\n",
    "# for some useful examples"
   ]
  },
  {
   "cell_type": "code",
   "execution_count": 16,
   "id": "4ba62097",
   "metadata": {},
   "outputs": [
    {
     "name": "stderr",
     "output_type": "stream",
     "text": [
      "c:\\Users\\raj23\\Documents\\GitHub\\COS_30018_105098233_Optioin_3\\.venv\\Lib\\site-packages\\keras\\src\\layers\\rnn\\rnn.py:199: UserWarning: Do not pass an `input_shape`/`input_dim` argument to a layer. When using Sequential models, prefer using an `Input(shape)` object as the first layer in the model instead.\n",
      "  super().__init__(**kwargs)\n"
     ]
    }
   ],
   "source": [
    "model.add(LSTM(units=50, return_sequences=True, input_shape=(x_train.shape[1], 1)))\n",
    "# This is our first hidden layer which also spcifies an input layer. \n",
    "# That's why we specify the input shape for this layer; \n",
    "# i.e. the format of each training example\n",
    "# The above would be equivalent to the following two lines of code:\n",
    "# model.add(InputLayer(input_shape=(x_train.shape[1], 1)))\n",
    "# model.add(LSTM(units=50, return_sequences=True))\n",
    "# For som eadvances explanation of return_sequences:\n",
    "# https://machinelearningmastery.com/return-sequences-and-return-states-for-lstms-in-keras/\n",
    "# https://www.dlology.com/blog/how-to-use-return_state-or-return_sequences-in-keras/\n",
    "# As explained there, for a stacked LSTM, you must set return_sequences=True \n",
    "# when stacking LSTM layers so that the next LSTM layer has a \n",
    "# three-dimensional sequence input. "
   ]
  },
  {
   "cell_type": "markdown",
   "id": "7cb70690",
   "metadata": {},
   "source": [
    "Finally, units specifies the number of nodes in this layer.\n",
    "This is one of the parameters you want to play with to see what number\n",
    "of units will give you better prediction quality (for your problem)"
   ]
  },
  {
   "cell_type": "code",
   "execution_count": 17,
   "id": "0f491bf3",
   "metadata": {},
   "outputs": [],
   "source": [
    "model.add(Dropout(0.2))\n",
    "# The Dropout layer randomly sets input units to 0 with a frequency of \n",
    "# rate (= 0.2 above) at each step during training time, which helps \n",
    "# prevent overfitting (one of the major problems of ML). "
   ]
  },
  {
   "cell_type": "code",
   "execution_count": 18,
   "id": "e2bbd1b7",
   "metadata": {},
   "outputs": [],
   "source": [
    "model.add(LSTM(units=50, return_sequences=True))\n",
    "# More on Stacked LSTM:\n",
    "# https://machinelearningmastery.com/stacked-long-short-term-memory-networks/"
   ]
  },
  {
   "cell_type": "code",
   "execution_count": 19,
   "id": "585033d1",
   "metadata": {},
   "outputs": [],
   "source": [
    "model.add(Dropout(0.2))\n",
    "model.add(LSTM(units=50))\n",
    "model.add(Dropout(0.2))"
   ]
  },
  {
   "cell_type": "code",
   "execution_count": 20,
   "id": "4fc01da4",
   "metadata": {},
   "outputs": [],
   "source": [
    "model.add(Dense(units=1)) \n",
    "# Prediction of the next closing value of the stock price"
   ]
  },
  {
   "cell_type": "code",
   "execution_count": 21,
   "id": "56795575",
   "metadata": {},
   "outputs": [],
   "source": [
    "# We compile the model by specify the parameters for the model\n",
    "# See lecture Week 6 (COS30018)\n",
    "model.compile(optimizer='adam', loss='mean_squared_error')\n",
    "# The optimizer and loss are two important parameters when building an \n",
    "# ANN model. Choosing a different optimizer/loss can affect the prediction\n",
    "# quality significantly. You should try other settings to learn; e.g."
   ]
  },
  {
   "cell_type": "markdown",
   "id": "b8ef4faa",
   "metadata": {},
   "source": [
    "optimizer='rmsprop'/'sgd'/'adadelta'/...\n",
    "loss='mean_absolute_error'/'huber_loss'/'cosine_similarity'/..."
   ]
  },
  {
   "cell_type": "code",
   "execution_count": 22,
   "id": "0a567cd6",
   "metadata": {},
   "outputs": [
    {
     "name": "stdout",
     "output_type": "stream",
     "text": [
      "Epoch 1/25\n",
      "\u001b[1m27/27\u001b[0m \u001b[32m━━━━━━━━━━━━━━━━━━━━\u001b[0m\u001b[37m\u001b[0m \u001b[1m6s\u001b[0m 43ms/step - loss: 0.0970\n",
      "Epoch 2/25\n",
      "\u001b[1m27/27\u001b[0m \u001b[32m━━━━━━━━━━━━━━━━━━━━\u001b[0m\u001b[37m\u001b[0m \u001b[1m1s\u001b[0m 48ms/step - loss: 0.0129\n",
      "Epoch 3/25\n",
      "\u001b[1m27/27\u001b[0m \u001b[32m━━━━━━━━━━━━━━━━━━━━\u001b[0m\u001b[37m\u001b[0m \u001b[1m1s\u001b[0m 49ms/step - loss: 0.0083\n",
      "Epoch 4/25\n",
      "\u001b[1m27/27\u001b[0m \u001b[32m━━━━━━━━━━━━━━━━━━━━\u001b[0m\u001b[37m\u001b[0m \u001b[1m1s\u001b[0m 47ms/step - loss: 0.0083\n",
      "Epoch 5/25\n",
      "\u001b[1m27/27\u001b[0m \u001b[32m━━━━━━━━━━━━━━━━━━━━\u001b[0m\u001b[37m\u001b[0m \u001b[1m1s\u001b[0m 49ms/step - loss: 0.0081\n",
      "Epoch 6/25\n",
      "\u001b[1m27/27\u001b[0m \u001b[32m━━━━━━━━━━━━━━━━━━━━\u001b[0m\u001b[37m\u001b[0m \u001b[1m1s\u001b[0m 47ms/step - loss: 0.0069\n",
      "Epoch 7/25\n",
      "\u001b[1m27/27\u001b[0m \u001b[32m━━━━━━━━━━━━━━━━━━━━\u001b[0m\u001b[37m\u001b[0m \u001b[1m1s\u001b[0m 49ms/step - loss: 0.0071\n",
      "Epoch 8/25\n",
      "\u001b[1m27/27\u001b[0m \u001b[32m━━━━━━━━━━━━━━━━━━━━\u001b[0m\u001b[37m\u001b[0m \u001b[1m1s\u001b[0m 49ms/step - loss: 0.0084\n",
      "Epoch 9/25\n",
      "\u001b[1m27/27\u001b[0m \u001b[32m━━━━━━━━━━━━━━━━━━━━\u001b[0m\u001b[37m\u001b[0m \u001b[1m1s\u001b[0m 50ms/step - loss: 0.0064\n",
      "Epoch 10/25\n",
      "\u001b[1m27/27\u001b[0m \u001b[32m━━━━━━━━━━━━━━━━━━━━\u001b[0m\u001b[37m\u001b[0m \u001b[1m1s\u001b[0m 48ms/step - loss: 0.0061\n",
      "Epoch 11/25\n",
      "\u001b[1m27/27\u001b[0m \u001b[32m━━━━━━━━━━━━━━━━━━━━\u001b[0m\u001b[37m\u001b[0m \u001b[1m1s\u001b[0m 48ms/step - loss: 0.0064\n",
      "Epoch 12/25\n",
      "\u001b[1m27/27\u001b[0m \u001b[32m━━━━━━━━━━━━━━━━━━━━\u001b[0m\u001b[37m\u001b[0m \u001b[1m1s\u001b[0m 48ms/step - loss: 0.0064\n",
      "Epoch 13/25\n",
      "\u001b[1m27/27\u001b[0m \u001b[32m━━━━━━━━━━━━━━━━━━━━\u001b[0m\u001b[37m\u001b[0m \u001b[1m1s\u001b[0m 52ms/step - loss: 0.0060\n",
      "Epoch 14/25\n",
      "\u001b[1m27/27\u001b[0m \u001b[32m━━━━━━━━━━━━━━━━━━━━\u001b[0m\u001b[37m\u001b[0m \u001b[1m1s\u001b[0m 48ms/step - loss: 0.0055\n",
      "Epoch 15/25\n",
      "\u001b[1m27/27\u001b[0m \u001b[32m━━━━━━━━━━━━━━━━━━━━\u001b[0m\u001b[37m\u001b[0m \u001b[1m1s\u001b[0m 49ms/step - loss: 0.0057\n",
      "Epoch 16/25\n",
      "\u001b[1m27/27\u001b[0m \u001b[32m━━━━━━━━━━━━━━━━━━━━\u001b[0m\u001b[37m\u001b[0m \u001b[1m1s\u001b[0m 49ms/step - loss: 0.0056\n",
      "Epoch 17/25\n",
      "\u001b[1m27/27\u001b[0m \u001b[32m━━━━━━━━━━━━━━━━━━━━\u001b[0m\u001b[37m\u001b[0m \u001b[1m1s\u001b[0m 49ms/step - loss: 0.0058\n",
      "Epoch 18/25\n",
      "\u001b[1m27/27\u001b[0m \u001b[32m━━━━━━━━━━━━━━━━━━━━\u001b[0m\u001b[37m\u001b[0m \u001b[1m1s\u001b[0m 48ms/step - loss: 0.0060\n",
      "Epoch 19/25\n",
      "\u001b[1m27/27\u001b[0m \u001b[32m━━━━━━━━━━━━━━━━━━━━\u001b[0m\u001b[37m\u001b[0m \u001b[1m1s\u001b[0m 48ms/step - loss: 0.0067\n",
      "Epoch 20/25\n",
      "\u001b[1m27/27\u001b[0m \u001b[32m━━━━━━━━━━━━━━━━━━━━\u001b[0m\u001b[37m\u001b[0m \u001b[1m1s\u001b[0m 48ms/step - loss: 0.0060\n",
      "Epoch 21/25\n",
      "\u001b[1m27/27\u001b[0m \u001b[32m━━━━━━━━━━━━━━━━━━━━\u001b[0m\u001b[37m\u001b[0m \u001b[1m1s\u001b[0m 46ms/step - loss: 0.0062\n",
      "Epoch 22/25\n",
      "\u001b[1m27/27\u001b[0m \u001b[32m━━━━━━━━━━━━━━━━━━━━\u001b[0m\u001b[37m\u001b[0m \u001b[1m1s\u001b[0m 47ms/step - loss: 0.0051\n",
      "Epoch 23/25\n",
      "\u001b[1m27/27\u001b[0m \u001b[32m━━━━━━━━━━━━━━━━━━━━\u001b[0m\u001b[37m\u001b[0m \u001b[1m1s\u001b[0m 50ms/step - loss: 0.0057\n",
      "Epoch 24/25\n",
      "\u001b[1m27/27\u001b[0m \u001b[32m━━━━━━━━━━━━━━━━━━━━\u001b[0m\u001b[37m\u001b[0m \u001b[1m1s\u001b[0m 50ms/step - loss: 0.0052\n",
      "Epoch 25/25\n",
      "\u001b[1m27/27\u001b[0m \u001b[32m━━━━━━━━━━━━━━━━━━━━\u001b[0m\u001b[37m\u001b[0m \u001b[1m1s\u001b[0m 46ms/step - loss: 0.0054\n"
     ]
    },
    {
     "data": {
      "text/plain": [
       "<keras.src.callbacks.history.History at 0x1211b9ed890>"
      ]
     },
     "execution_count": 22,
     "metadata": {},
     "output_type": "execute_result"
    }
   ],
   "source": [
    "# Now we are going to train this model with our training data \n",
    "# (x_train, y_train)\n",
    "model.fit(x_train, y_train, epochs=25, batch_size=32)\n",
    "# Other parameters to consider: How many rounds(epochs) are we going to \n",
    "# train our model? Typically, the more the better, but be careful about\n",
    "# overfitting!\n",
    "# What about batch_size? Well, again, please refer to \n",
    "# Lecture Week 6 (COS30018): If you update your model for each and every \n",
    "# input sample, then there are potentially 2 issues: 1. If you training \n",
    "# data is very big (billions of input samples) then it will take VERY long;\n",
    "# 2. Each and every input can immediately makes changes to your model\n",
    "# (a souce of overfitting). Thus, we do this in batches: We'll look at\n",
    "# the aggreated errors/losses from a batch of, say, 32 input samples\n",
    "# and update our model based on this aggregated loss."
   ]
  },
  {
   "cell_type": "markdown",
   "id": "37e32932",
   "metadata": {},
   "source": [
    "TO DO:\n",
    "Save the model and reload it\n",
    "Sometimes, it takes a lot of effort to train your model (again, look at\n",
    "a training data with billions of input samples). Thus, after spending so \n",
    "much computing power to train your model, you may want to save it so that\n",
    "in the future, when you want to make the prediction, you only need to load\n",
    "your pre-trained model and run it on the new input for which the prediction\n",
    "need to be made."
   ]
  },
  {
   "cell_type": "code",
   "execution_count": 23,
   "id": "b8f40888",
   "metadata": {},
   "outputs": [],
   "source": [
    "#------------------------------------------------------------------------------\n",
    "# Test the model accuracy on existing data\n",
    "#------------------------------------------------------------------------------\n",
    "# Load the test data\n",
    "TEST_START = '2023-08-02'\n",
    "TEST_END = '2024-07-02'"
   ]
  },
  {
   "cell_type": "markdown",
   "id": "b522c95a",
   "metadata": {},
   "source": [
    "test_data = web.DataReader(COMPANY, DATA_SOURCE, TEST_START, TEST_END)"
   ]
  },
  {
   "cell_type": "code",
   "execution_count": 24,
   "id": "f5746c4e",
   "metadata": {
    "lines_to_next_cell": 2
   },
   "outputs": [
    {
     "name": "stderr",
     "output_type": "stream",
     "text": [
      "C:\\Users\\raj23\\AppData\\Local\\Temp\\ipykernel_33336\\448349976.py:1: FutureWarning: YF.download() has changed argument auto_adjust default to True\n",
      "  test_data = yf.download(COMPANY,TEST_START,TEST_END)\n",
      "[*********************100%***********************]  1 of 1 completed\n"
     ]
    }
   ],
   "source": [
    "test_data = yf.download(COMPANY,TEST_START,TEST_END)"
   ]
  },
  {
   "cell_type": "markdown",
   "id": "23f95928",
   "metadata": {},
   "source": [
    "The above bug is the reason for the following line of code\n",
    "test_data = test_data[1:]"
   ]
  },
  {
   "cell_type": "code",
   "execution_count": 25,
   "id": "b41df5fa",
   "metadata": {},
   "outputs": [],
   "source": [
    "actual_prices = test_data[PRICE_VALUE].values"
   ]
  },
  {
   "cell_type": "code",
   "execution_count": 26,
   "id": "98ccab7e",
   "metadata": {},
   "outputs": [],
   "source": [
    "total_dataset = pd.concat((data[PRICE_VALUE], test_data[PRICE_VALUE]), axis=0)"
   ]
  },
  {
   "cell_type": "code",
   "execution_count": 27,
   "id": "784f411d",
   "metadata": {},
   "outputs": [],
   "source": [
    "model_inputs = total_dataset[len(total_dataset) - len(test_data) - PREDICTION_DAYS:].values\n",
    "# We need to do the above because to predict the closing price of the fisrt\n",
    "# PREDICTION_DAYS of the test period [TEST_START, TEST_END], we'll need the \n",
    "# data from the training period"
   ]
  },
  {
   "cell_type": "code",
   "execution_count": 28,
   "id": "66ec63d9",
   "metadata": {},
   "outputs": [],
   "source": [
    "model_inputs = model_inputs.reshape(-1, 1)\n",
    "# TO DO: Explain the above line"
   ]
  },
  {
   "cell_type": "code",
   "execution_count": 29,
   "id": "c0e5e63a",
   "metadata": {},
   "outputs": [],
   "source": [
    "model_inputs = scaler.transform(model_inputs)\n",
    "# We again normalize our closing price data to fit them into the range (0,1)\n",
    "# using the same scaler used above \n",
    "# However, there may be a problem: scaler was computed on the basis of\n",
    "# the Max/Min of the stock price for the period [TRAIN_START, TRAIN_END],\n",
    "# but there may be a lower/higher price during the test period \n",
    "# [TEST_START, TEST_END]. That can lead to out-of-bound values (negative and\n",
    "# greater than one)\n",
    "# We'll call this ISSUE #2"
   ]
  },
  {
   "cell_type": "markdown",
   "id": "14d4ac50",
   "metadata": {},
   "source": [
    "TO DO: Generally, there is a better way to process the data so that we \n",
    "can use part of it for training and the rest for testing. You need to \n",
    "implement such a way"
   ]
  },
  {
   "cell_type": "code",
   "execution_count": 30,
   "id": "1c37f767",
   "metadata": {},
   "outputs": [],
   "source": [
    "#------------------------------------------------------------------------------\n",
    "# Make predictions on test data\n",
    "#------------------------------------------------------------------------------\n",
    "x_test = []\n",
    "for x in range(PREDICTION_DAYS, len(model_inputs)):\n",
    "    x_test.append(model_inputs[x - PREDICTION_DAYS:x, 0])"
   ]
  },
  {
   "cell_type": "code",
   "execution_count": 31,
   "id": "0d333efb",
   "metadata": {},
   "outputs": [],
   "source": [
    "x_test = np.array(x_test)\n",
    "x_test = np.reshape(x_test, (x_test.shape[0], x_test.shape[1], 1))\n",
    "# TO DO: Explain the above 5 lines"
   ]
  },
  {
   "cell_type": "code",
   "execution_count": 32,
   "id": "c3984b56",
   "metadata": {},
   "outputs": [
    {
     "name": "stdout",
     "output_type": "stream",
     "text": [
      "\u001b[1m8/8\u001b[0m \u001b[32m━━━━━━━━━━━━━━━━━━━━\u001b[0m\u001b[37m\u001b[0m \u001b[1m1s\u001b[0m 76ms/step\n"
     ]
    }
   ],
   "source": [
    "predicted_prices = model.predict(x_test)\n",
    "predicted_prices = scaler.inverse_transform(predicted_prices)\n",
    "# Clearly, as we transform our data into the normalized range (0,1),\n",
    "# we now need to reverse this transformation \n",
    "#------------------------------------------------------------------------------\n",
    "# Plot the test predictions\n",
    "## To do:\n",
    "# 1) Candle stick charts\n",
    "# 2) Chart showing High & Lows of the day\n",
    "# 3) Show chart of next few days (predicted)\n",
    "#------------------------------------------------------------------------------"
   ]
  },
  {
   "cell_type": "code",
   "execution_count": 33,
   "id": "9dcbef9f",
   "metadata": {},
   "outputs": [
    {
     "data": {
      "image/png": "[encoded data removed]",
      "text/plain": [
       "<Figure size 640x480 with 1 Axes>"
      ]
     },
     "metadata": {},
     "output_type": "display_data"
    }
   ],
   "source": [
    "plt.plot(actual_prices, color=\"black\", label=f\"Actual {COMPANY} Price\")\n",
    "plt.plot(predicted_prices, color=\"green\", label=f\"Predicted {COMPANY} Price\")\n",
    "plt.title(f\"{COMPANY} Share Price\")\n",
    "plt.xlabel(\"Time\")\n",
    "plt.ylabel(f\"{COMPANY} Share Price\")\n",
    "plt.legend()\n",
    "plt.show()"
   ]
  },
  {
   "cell_type": "markdown",
   "id": "217df369",
   "metadata": {
    "lines_to_next_cell": 2
   },
   "source": [
    "------------------------------------------------------------------------------\n",
    "Predict next day\n",
    "------------------------------------------------------------------------------"
   ]
  },
  {
   "cell_type": "code",
   "execution_count": 34,
   "id": "5577da36",
   "metadata": {},
   "outputs": [],
   "source": [
    "real_data = [model_inputs[len(model_inputs) - PREDICTION_DAYS:, 0]]\n",
    "real_data = np.array(real_data)\n",
    "real_data = np.reshape(real_data, (real_data.shape[0], real_data.shape[1], 1))"
   ]
  },
  {
   "cell_type": "code",
   "execution_count": 35,
   "id": "be54098a",
   "metadata": {},
   "outputs": [
    {
     "name": "stdout",
     "output_type": "stream",
     "text": [
      "\u001b[1m1/1\u001b[0m \u001b[32m━━━━━━━━━━━━━━━━━━━━\u001b[0m\u001b[37m\u001b[0m \u001b[1m0s\u001b[0m 76ms/step\n",
      "Prediction: [[110.582214]]\n"
     ]
    }
   ],
   "source": [
    "prediction = model.predict(real_data)\n",
    "prediction = scaler.inverse_transform(prediction)\n",
    "print(f\"Prediction: {prediction}\")"
   ]
  },
  {
   "cell_type": "markdown",
   "id": "9f0e1f52",
   "metadata": {},
   "source": [
    "A few concluding remarks here:\n",
    "1. The predictor is quite bad, especially if you look at the next day \n",
    "prediction, it missed the actual price by about 10%-13%\n",
    "Can you find the reason?\n",
    "2. The code base at\n",
    "https://github.com/x4nth055/pythoncode-tutorials/tree/master/machine-learning/stock-prediction\n",
    "gives a much better prediction. Even though on the surface, it didn't seem \n",
    "to be a big difference (both use Stacked LSTM)\n",
    "Again, can you explain it?\n",
    "A more advanced and quite different technique use CNN to analyse the images\n",
    "of the stock price changes to detect some patterns with the trend of\n",
    "the stock price:\n",
    "https://github.com/jason887/Using-Deep-Learning-Neural-Networks-and-Candlestick-Chart-Representation-to-Predict-Stock-Market\n",
    "Can you combine these different techniques for a better prediction??"
   ]
  }
 ],
 "metadata": {
  "jupytext": {
   "cell_metadata_filter": "-all",
   "main_language": "python",
   "notebook_metadata_filter": "-all"
  },
  "kernelspec": {
   "display_name": ".venv",
   "language": "python",
   "name": "python3"
  },
  "language_info": {
   "codemirror_mode": {
    "name": "ipython",
    "version": 3
   },
   "file_extension": ".py",
   "mimetype": "text/x-python",
   "name": "python",
   "nbconvert_exporter": "python",
   "pygments_lexer": "ipython3",
   "version": "3.11.9"
  }
 },
 "nbformat": 4,
 "nbformat_minor": 5
}
