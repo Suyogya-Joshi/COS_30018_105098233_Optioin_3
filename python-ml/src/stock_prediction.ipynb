{
 "cells": [
  {
   "cell_type": "markdown",
   "id": "72662e32",
   "metadata": {},
   "source": [
    "File: stock_prediction.py\n",
    "\n",
    "Original Authors: Bao Vo and Cheong Koo\n",
    "\n",
    " Original Dates: 14/07/2021 (v1); 19/07/2021 (v2); 02/07/2024 (v3)\n",
    "\n",
    "-----------------------------------------------------------------------\n",
    " Code adapted from:\n",
    "  Title: Predicting Stock Prices with Python (NeuralNine)\n",
    "\n",
    "\n",
    "   YouTube: https://www.youtube.com/watch?v=PuZY9q-aKLw\n",
    "  Reference repo (tutorials by x4nth055 / The Python Code): see LICENSE in repo\n",
    "\n",
    "\n",
    "------------------------------------------------------------------------\n",
    " Modifications: \n",
    "  Modified by: Suyogya “Rex” Raj Joshi\n",
    "\n",
    "  Date: 28/08/2025\n",
    "\n",
    "  Summary of changes: Switched to yfinance download, adjusted train/test dates,\n",
    "\n",
    "  clarified scaling/reshaping comments, tweaked LSTM stack & dropout, added\n",
    "\n",
    "  plotting, etc. (list your real changes briefly)\n",
    "\n",
    "------------------------------------------------------------------------------------------------\n",
    "License:\n",
    "\n",
    "  Retain original license/notice from any borrowed sources. If you publish this\n",
    "\n",
    "  project, include the upstream LICENSE files and attribution in your README."
   ]
  },
  {
   "cell_type": "code",
   "execution_count": null,
   "id": "7938fe1d",
   "metadata": {},
   "outputs": [],
   "source": []
  },
  {
   "cell_type": "code",
   "execution_count": 1,
   "id": "ce81e65a",
   "metadata": {},
   "outputs": [],
   "source": [
    "import numpy as np\n",
    "import matplotlib.pyplot as plt\n",
    "import pandas as pd\n",
    "import pandas_datareader as web\n",
    "import datetime as dt\n",
    "import tensorflow as tf"
   ]
  },
  {
   "cell_type": "code",
   "execution_count": 2,
   "id": "6dc43882",
   "metadata": {},
   "outputs": [],
   "source": [
    "from sklearn.preprocessing import MinMaxScaler\n",
    "from tensorflow.keras.models import Sequential\n",
    "from tensorflow.keras.layers import Dense, Dropout, LSTM, InputLayer"
   ]
  },
  {
   "cell_type": "code",
   "execution_count": null,
   "id": "a25275ce",
   "metadata": {},
   "outputs": [],
   "source": [
    "#------------------------------------------------------------------------------\n",
    "# Load Data\n",
    "## TO DO:\n",
    "# 1) Check if data has been saved before. \n",
    "# If so, load the saved data\n",
    "# If not, save the data into a directory\n",
    "#------------------------------------------------------------------------------\n",
    "# DATA_SOURCE = \"yahoo\" #Using yahoo finance for data source\n",
    "\n",
    "COMPANY = 'AAPL' # Ticker for Apple stock"
   ]
  },
  {
   "cell_type": "code",
   "execution_count": 10,
   "id": "55ea5170",
   "metadata": {},
   "outputs": [],
   "source": [
    "TRAIN_START = '2020-01-01'     # Start date to read\n",
    "TRAIN_END = '2023-08-01'       # End date to read"
   ]
  },
  {
   "cell_type": "markdown",
   "id": "03398325",
   "metadata": {
    "lines_to_next_cell": 2
   },
   "source": [
    "data = web.DataReader(COMPANY, DATA_SOURCE, TRAIN_START, TRAIN_END) # Read data using yahoo"
   ]
  },
  {
   "cell_type": "code",
   "execution_count": 5,
   "id": "c96dc665",
   "metadata": {},
   "outputs": [],
   "source": [
    "import yfinance as yf"
   ]
  },
  {
   "cell_type": "code",
   "execution_count": null,
   "id": "06bd2812",
   "metadata": {},
   "outputs": [
    {
     "name": "stderr",
     "output_type": "stream",
     "text": [
      "C:\\Users\\raj23\\AppData\\Local\\Temp\\ipykernel_26672\\1548533592.py:2: FutureWarning: YF.download() has changed argument auto_adjust default to True\n",
      "  data = yf.download(COMPANY,TRAIN_START,TRAIN_END)\n",
      "[*********************100%***********************]  1 of 1 completed"
     ]
    },
    {
     "name": "stdout",
     "output_type": "stream",
     "text": [
      "------------------------------------------------------------\n",
      "Price           Close       High        Low       Open     Volume\n",
      "Ticker           AAPL       AAPL       AAPL       AAPL       AAPL\n",
      "Date                                                             \n",
      "2020-01-02  72.538521  72.598899  71.292311  71.545897  135480400\n",
      "2020-01-03  71.833290  72.594055  71.608685  71.765667  146322800\n",
      "2020-01-06  72.405678  72.444321  70.703012  70.954188  118387200\n",
      "2020-01-07  72.065147  72.671341  71.845369  72.415337  108872000\n",
      "2020-01-08  73.224396  73.526287  71.768071  71.768071  132079200\n"
     ]
    },
    {
     "name": "stderr",
     "output_type": "stream",
     "text": [
      "\n"
     ]
    }
   ],
   "source": [
    "# Get the data for the stock AAPL\n",
    "data = yf.download(COMPANY,TRAIN_START,TRAIN_END)\n",
    "print(\"------------------------------------------------------------\")\n",
    "print(data.head()) #Printing the ordered data"
   ]
  },
  {
   "cell_type": "code",
   "execution_count": null,
   "id": "ab8f0e84",
   "metadata": {},
   "outputs": [
    {
     "name": "stdout",
     "output_type": "stream",
     "text": [
      " Loading saved data.\n",
      "                        Close               High                Low  \\\n",
      "Price                                                                 \n",
      "Ticker                   AAPL               AAPL               AAPL   \n",
      "Date                      NaN                NaN                NaN   \n",
      "2020-01-02  72.53850555419922  72.59888386623527  71.29229630932706   \n",
      "2020-01-03  71.83329010009766  72.59405542623057  71.60868452797844   \n",
      "2020-01-06  72.40567779541016  72.44432080433776   70.7030121336898   \n",
      "2020-01-07  72.06513977050781  72.67133299565539  71.84536183598526   \n",
      "2020-01-08  73.22441101074219  73.52630260685811  71.76808624589498   \n",
      "2020-01-09  74.77975463867188  74.97296230565743   73.9513658951312   \n",
      "2020-01-10  74.94882202148438  75.51396965111952  74.44647758118805   \n",
      "2020-01-13  76.55005645751953  76.57662675415311  75.14686472001775   \n",
      "\n",
      "                         Open     Volume  \n",
      "Price                                     \n",
      "Ticker                   AAPL       AAPL  \n",
      "Date                      NaN        NaN  \n",
      "2020-01-02  71.54588227171874  135480400  \n",
      "2020-01-03  71.76566667933918  146322800  \n",
      "2020-01-06  70.95418800651902  118387200  \n",
      "2020-01-07  72.41532954893665  108872000  \n",
      "2020-01-08  71.76808624589498  132079200  \n",
      "2020-01-09  74.20253438813242  170108400  \n",
      "2020-01-10  75.01403533204297  140644800  \n",
      "2020-01-13  75.26521125345613  121532000  \n",
      "---------------------------------------------------------------------\n",
      "                         Close                High                 Low  \\\n",
      "Price                                                                    \n",
      "2023-12-15  195.91136169433594  196.73438033852585  195.34613971264017   \n",
      "2023-12-18  194.24546813964844   194.9792611555933  192.75806090539803   \n",
      "2023-12-19  195.28665161132812   195.2965622122741  194.24546354583867   \n",
      "2023-12-20  193.19435119628906   196.0204155959587  193.19435119628906   \n",
      "2023-12-21   193.0456085205078  195.42546903656068  191.87552215973167   \n",
      "2023-12-22   191.9746856689453  193.76948784569112    191.349969834571   \n",
      "2023-12-26  191.42929077148438    192.262235089905  191.21113652656177   \n",
      "2023-12-27   191.5284423828125  191.87551008122907  189.48573911500236   \n",
      "2023-12-28  191.95486450195312  193.02579953233345  191.54830289093405   \n",
      "2023-12-29  190.91366577148438  192.76796185552627  190.12037892679615   \n",
      "\n",
      "                          Open     Volume  \n",
      "Price                                      \n",
      "2023-12-15  195.87168903034603  128538400  \n",
      "2023-12-18  194.44378607807738   55751900  \n",
      "2023-12-19  194.51320107826476   40714100  \n",
      "2023-12-20  195.24696511767544   52242800  \n",
      "2023-12-21  194.45370060278358   46482500  \n",
      "2023-12-22  193.54140785907617   37149600  \n",
      "2023-12-26  191.98458698376479   28919300  \n",
      "2023-12-27  190.87399477798158   48087700  \n",
      "2023-12-28  192.51016078496022   34049900  \n",
      "2023-12-29  192.27215946893213   42672100  \n",
      "---------------------------------------------------------------------\n",
      "<class 'pandas.core.frame.DataFrame'>\n",
      "Index: 1008 entries, Ticker to 2023-12-29\n",
      "Data columns (total 5 columns):\n",
      " #   Column  Non-Null Count  Dtype \n",
      "---  ------  --------------  ----- \n",
      " 0   Close   1007 non-null   object\n",
      " 1   High    1007 non-null   object\n",
      " 2   Low     1007 non-null   object\n",
      " 3   Open    1007 non-null   object\n",
      " 4   Volume  1007 non-null   object\n",
      "dtypes: object(5)\n",
      "memory usage: 47.2+ KB\n"
     ]
    },
    {
     "name": "stderr",
     "output_type": "stream",
     "text": [
      "C:\\Users\\raj23\\AppData\\Local\\Temp\\ipykernel_26672\\3127552139.py:10: UserWarning: Could not infer format, so each element will be parsed individually, falling back to `dateutil`. To ensure parsing is consistent and as-expected, please specify a format.\n",
      "  df = pd.read_csv(DATA_PATH, index_col=0, parse_dates=True)\n"
     ]
    }
   ],
   "source": [
    "import os\n",
    "DATA_PATH = f\"data/{COMPANY}_data.csv\"\n",
    "\n",
    "# Make sure \"data\" folder exists\n",
    "os.makedirs(\"data\", exist_ok=True)\n",
    "\n",
    "# Checking cached data if exists, otherwise saving it.\n",
    "if os.path.exists(DATA_PATH):\n",
    "    print(\" Loading saved data.\")\n",
    "    df = pd.read_csv(DATA_PATH, index_col=0, parse_dates=True)\n",
    "else:\n",
    "    print(\" Downloading fresh data...\")\n",
    "    df = yf.download(COMPANY, TRAIN_START, TRAIN_END)\n",
    "    df.to_csv(DATA_PATH)\n",
    "    print(\" Saved data to\", DATA_PATH)\n",
    "\n",
    "# Quick check\n",
    "print(df.head(10)) # First 10 rows\n",
    "print(\"---------------------------------------------------------------------\")\n",
    "print(df.tail(10)) # Last 10 rows\n",
    "print(\"---------------------------------------------------------------------\")\n",
    "print(df.isna().sum()) # Checking NaN Or missing values."
   ]
  },
  {
   "cell_type": "code",
   "execution_count": 8,
   "id": "26fecbeb",
   "metadata": {},
   "outputs": [],
   "source": [
    "#------------------------------------------------------------------------------\n",
    "# Prepare Data\n",
    "## To do:\n",
    "# 1) Check if data has been prepared before. \n",
    "# If so, load the saved data\n",
    "# If not, save the data into a directory\n",
    "# 2) Use a different price value eg. mid-point of Open & Close\n",
    "# 3) Change the Prediction days\n",
    "#------------------------------------------------------------------------------\n",
    "PRICE_VALUE = \"Close\""
   ]
  },
  {
   "cell_type": "code",
   "execution_count": 9,
   "id": "98ed74c8",
   "metadata": {},
   "outputs": [],
   "source": [
    "scaler = MinMaxScaler(feature_range=(0, 1)) \n",
    "# Note that, by default, feature_range=(0, 1). Thus, if you want a different \n",
    "# feature_range (min,max) then you'll need to specify it here\n",
    "scaled_data = scaler.fit_transform(data[PRICE_VALUE].values.reshape(-1, 1)) \n",
    "# Flatten and normalise the data\n",
    "# First, we reshape a 1D array(n) to 2D array(n,1)\n",
    "# We have to do that because sklearn.preprocessing.fit_transform()\n",
    "# requires a 2D array\n",
    "# Here n == len(scaled_data)\n",
    "# Then, we scale the whole array to the range (0,1)\n",
    "# The parameter -1 allows (np.)reshape to figure out the array size n automatically \n",
    "# values.reshape(-1, 1) \n",
    "# https://stackoverflow.com/questions/18691084/what-does-1-mean-in-numpy-reshape'\n",
    "# When reshaping an array, the new shape must contain the same number of elements \n",
    "# as the old shape, meaning the products of the two shapes' dimensions must be equal. \n",
    "# When using a -1, the dimension corresponding to the -1 will be the product of \n",
    "# the dimensions of the original array divided by the product of the dimensions \n",
    "# given to reshape so as to maintain the same number of elements."
   ]
  },
  {
   "cell_type": "code",
   "execution_count": 10,
   "id": "3214e825",
   "metadata": {},
   "outputs": [],
   "source": [
    "# Number of days to look back to base the prediction\n",
    "PREDICTION_DAYS = 60 # Original"
   ]
  },
  {
   "cell_type": "code",
   "execution_count": 11,
   "id": "60b95236",
   "metadata": {},
   "outputs": [],
   "source": [
    "# To store the training data\n",
    "x_train = []\n",
    "y_train = []"
   ]
  },
  {
   "cell_type": "code",
   "execution_count": 12,
   "id": "45ce0e3e",
   "metadata": {},
   "outputs": [],
   "source": [
    "scaled_data = scaled_data[:,0] # Turn the 2D array back to a 1D array\n",
    "# Prepare the data\n",
    "for x in range(PREDICTION_DAYS, len(scaled_data)):\n",
    "    x_train.append(scaled_data[x-PREDICTION_DAYS:x])\n",
    "    y_train.append(scaled_data[x])"
   ]
  },
  {
   "cell_type": "code",
   "execution_count": 13,
   "id": "f07969d9",
   "metadata": {},
   "outputs": [],
   "source": [
    "# Convert them into an array\n",
    "x_train, y_train = np.array(x_train), np.array(y_train)\n",
    "# Now, x_train is a 2D array(p,q) where p = len(scaled_data) - PREDICTION_DAYS\n",
    "# and q = PREDICTION_DAYS; while y_train is a 1D array(p)"
   ]
  },
  {
   "cell_type": "code",
   "execution_count": 14,
   "id": "8b801b3f",
   "metadata": {},
   "outputs": [],
   "source": [
    "x_train = np.reshape(x_train, (x_train.shape[0], x_train.shape[1], 1))\n",
    "# We now reshape x_train into a 3D array(p, q, 1); Note that x_train \n",
    "# is an array of p inputs with each input being a 2D array "
   ]
  },
  {
   "cell_type": "code",
   "execution_count": 15,
   "id": "6287685d",
   "metadata": {},
   "outputs": [],
   "source": [
    "#------------------------------------------------------------------------------\n",
    "# Build the Model\n",
    "## TO DO:\n",
    "# 1) Check if data has been built before. \n",
    "# If so, load the saved data\n",
    "# If not, save the data into a directory\n",
    "# 2) Change the model to increase accuracy?\n",
    "#------------------------------------------------------------------------------\n",
    "model = Sequential() # Basic neural network\n",
    "# See: https://www.tensorflow.org/api_docs/python/tf/keras/Sequential\n",
    "# for some useful examples"
   ]
  },
  {
   "cell_type": "code",
   "execution_count": 16,
   "id": "4ba62097",
   "metadata": {},
   "outputs": [
    {
     "name": "stderr",
     "output_type": "stream",
     "text": [
      "c:\\Users\\raj23\\Documents\\GitHub\\COS_30018_105098233_Optioin_3\\.venv\\Lib\\site-packages\\keras\\src\\layers\\rnn\\rnn.py:199: UserWarning: Do not pass an `input_shape`/`input_dim` argument to a layer. When using Sequential models, prefer using an `Input(shape)` object as the first layer in the model instead.\n",
      "  super().__init__(**kwargs)\n"
     ]
    }
   ],
   "source": [
    "model.add(LSTM(units=50, return_sequences=True, input_shape=(x_train.shape[1], 1)))\n",
    "# This is our first hidden layer which also spcifies an input layer. \n",
    "# That's why we specify the input shape for this layer; \n",
    "# i.e. the format of each training example\n",
    "# The above would be equivalent to the following two lines of code:\n",
    "# model.add(InputLayer(input_shape=(x_train.shape[1], 1)))\n",
    "# model.add(LSTM(units=50, return_sequences=True))\n",
    "# For som eadvances explanation of return_sequences:\n",
    "# https://machinelearningmastery.com/return-sequences-and-return-states-for-lstms-in-keras/\n",
    "# https://www.dlology.com/blog/how-to-use-return_state-or-return_sequences-in-keras/\n",
    "# As explained there, for a stacked LSTM, you must set return_sequences=True \n",
    "# when stacking LSTM layers so that the next LSTM layer has a \n",
    "# three-dimensional sequence input. "
   ]
  },
  {
   "cell_type": "markdown",
   "id": "7cb70690",
   "metadata": {},
   "source": [
    "Finally, units specifies the number of nodes in this layer.\n",
    "This is one of the parameters you want to play with to see what number\n",
    "of units will give you better prediction quality (for your problem)"
   ]
  },
  {
   "cell_type": "code",
   "execution_count": 17,
   "id": "0f491bf3",
   "metadata": {},
   "outputs": [],
   "source": [
    "model.add(Dropout(0.2))\n",
    "# The Dropout layer randomly sets input units to 0 with a frequency of \n",
    "# rate (= 0.2 above) at each step during training time, which helps \n",
    "# prevent overfitting (one of the major problems of ML). "
   ]
  },
  {
   "cell_type": "code",
   "execution_count": 18,
   "id": "e2bbd1b7",
   "metadata": {},
   "outputs": [],
   "source": [
    "model.add(LSTM(units=50, return_sequences=True))\n",
    "# More on Stacked LSTM:\n",
    "# https://machinelearningmastery.com/stacked-long-short-term-memory-networks/"
   ]
  },
  {
   "cell_type": "code",
   "execution_count": 19,
   "id": "585033d1",
   "metadata": {},
   "outputs": [],
   "source": [
    "model.add(Dropout(0.2))\n",
    "model.add(LSTM(units=50))\n",
    "model.add(Dropout(0.2))"
   ]
  },
  {
   "cell_type": "code",
   "execution_count": 20,
   "id": "4fc01da4",
   "metadata": {},
   "outputs": [],
   "source": [
    "model.add(Dense(units=1)) \n",
    "# Prediction of the next closing value of the stock price"
   ]
  },
  {
   "cell_type": "code",
   "execution_count": 21,
   "id": "56795575",
   "metadata": {},
   "outputs": [],
   "source": [
    "# We compile the model by specify the parameters for the model\n",
    "# See lecture Week 6 (COS30018)\n",
    "model.compile(optimizer='adam', loss='mean_squared_error')\n",
    "# The optimizer and loss are two important parameters when building an \n",
    "# ANN model. Choosing a different optimizer/loss can affect the prediction\n",
    "# quality significantly. You should try other settings to learn; e.g."
   ]
  },
  {
   "cell_type": "markdown",
   "id": "b8ef4faa",
   "metadata": {},
   "source": [
    "optimizer='rmsprop'/'sgd'/'adadelta'/...\n",
    "loss='mean_absolute_error'/'huber_loss'/'cosine_similarity'/..."
   ]
  },
  {
   "cell_type": "code",
   "execution_count": 22,
   "id": "0a567cd6",
   "metadata": {},
   "outputs": [
    {
     "name": "stdout",
     "output_type": "stream",
     "text": [
      "Epoch 1/25\n",
      "\u001b[1m27/27\u001b[0m \u001b[32m━━━━━━━━━━━━━━━━━━━━\u001b[0m\u001b[37m\u001b[0m \u001b[1m6s\u001b[0m 43ms/step - loss: 0.0970\n",
      "Epoch 2/25\n",
      "\u001b[1m27/27\u001b[0m \u001b[32m━━━━━━━━━━━━━━━━━━━━\u001b[0m\u001b[37m\u001b[0m \u001b[1m1s\u001b[0m 48ms/step - loss: 0.0129\n",
      "Epoch 3/25\n",
      "\u001b[1m27/27\u001b[0m \u001b[32m━━━━━━━━━━━━━━━━━━━━\u001b[0m\u001b[37m\u001b[0m \u001b[1m1s\u001b[0m 49ms/step - loss: 0.0083\n",
      "Epoch 4/25\n",
      "\u001b[1m27/27\u001b[0m \u001b[32m━━━━━━━━━━━━━━━━━━━━\u001b[0m\u001b[37m\u001b[0m \u001b[1m1s\u001b[0m 47ms/step - loss: 0.0083\n",
      "Epoch 5/25\n",
      "\u001b[1m27/27\u001b[0m \u001b[32m━━━━━━━━━━━━━━━━━━━━\u001b[0m\u001b[37m\u001b[0m \u001b[1m1s\u001b[0m 49ms/step - loss: 0.0081\n",
      "Epoch 6/25\n",
      "\u001b[1m27/27\u001b[0m \u001b[32m━━━━━━━━━━━━━━━━━━━━\u001b[0m\u001b[37m\u001b[0m \u001b[1m1s\u001b[0m 47ms/step - loss: 0.0069\n",
      "Epoch 7/25\n",
      "\u001b[1m27/27\u001b[0m \u001b[32m━━━━━━━━━━━━━━━━━━━━\u001b[0m\u001b[37m\u001b[0m \u001b[1m1s\u001b[0m 49ms/step - loss: 0.0071\n",
      "Epoch 8/25\n",
      "\u001b[1m27/27\u001b[0m \u001b[32m━━━━━━━━━━━━━━━━━━━━\u001b[0m\u001b[37m\u001b[0m \u001b[1m1s\u001b[0m 49ms/step - loss: 0.0084\n",
      "Epoch 9/25\n",
      "\u001b[1m27/27\u001b[0m \u001b[32m━━━━━━━━━━━━━━━━━━━━\u001b[0m\u001b[37m\u001b[0m \u001b[1m1s\u001b[0m 50ms/step - loss: 0.0064\n",
      "Epoch 10/25\n",
      "\u001b[1m27/27\u001b[0m \u001b[32m━━━━━━━━━━━━━━━━━━━━\u001b[0m\u001b[37m\u001b[0m \u001b[1m1s\u001b[0m 48ms/step - loss: 0.0061\n",
      "Epoch 11/25\n",
      "\u001b[1m27/27\u001b[0m \u001b[32m━━━━━━━━━━━━━━━━━━━━\u001b[0m\u001b[37m\u001b[0m \u001b[1m1s\u001b[0m 48ms/step - loss: 0.0064\n",
      "Epoch 12/25\n",
      "\u001b[1m27/27\u001b[0m \u001b[32m━━━━━━━━━━━━━━━━━━━━\u001b[0m\u001b[37m\u001b[0m \u001b[1m1s\u001b[0m 48ms/step - loss: 0.0064\n",
      "Epoch 13/25\n",
      "\u001b[1m27/27\u001b[0m \u001b[32m━━━━━━━━━━━━━━━━━━━━\u001b[0m\u001b[37m\u001b[0m \u001b[1m1s\u001b[0m 52ms/step - loss: 0.0060\n",
      "Epoch 14/25\n",
      "\u001b[1m27/27\u001b[0m \u001b[32m━━━━━━━━━━━━━━━━━━━━\u001b[0m\u001b[37m\u001b[0m \u001b[1m1s\u001b[0m 48ms/step - loss: 0.0055\n",
      "Epoch 15/25\n",
      "\u001b[1m27/27\u001b[0m \u001b[32m━━━━━━━━━━━━━━━━━━━━\u001b[0m\u001b[37m\u001b[0m \u001b[1m1s\u001b[0m 49ms/step - loss: 0.0057\n",
      "Epoch 16/25\n",
      "\u001b[1m27/27\u001b[0m \u001b[32m━━━━━━━━━━━━━━━━━━━━\u001b[0m\u001b[37m\u001b[0m \u001b[1m1s\u001b[0m 49ms/step - loss: 0.0056\n",
      "Epoch 17/25\n",
      "\u001b[1m27/27\u001b[0m \u001b[32m━━━━━━━━━━━━━━━━━━━━\u001b[0m\u001b[37m\u001b[0m \u001b[1m1s\u001b[0m 49ms/step - loss: 0.0058\n",
      "Epoch 18/25\n",
      "\u001b[1m27/27\u001b[0m \u001b[32m━━━━━━━━━━━━━━━━━━━━\u001b[0m\u001b[37m\u001b[0m \u001b[1m1s\u001b[0m 48ms/step - loss: 0.0060\n",
      "Epoch 19/25\n",
      "\u001b[1m27/27\u001b[0m \u001b[32m━━━━━━━━━━━━━━━━━━━━\u001b[0m\u001b[37m\u001b[0m \u001b[1m1s\u001b[0m 48ms/step - loss: 0.0067\n",
      "Epoch 20/25\n",
      "\u001b[1m27/27\u001b[0m \u001b[32m━━━━━━━━━━━━━━━━━━━━\u001b[0m\u001b[37m\u001b[0m \u001b[1m1s\u001b[0m 48ms/step - loss: 0.0060\n",
      "Epoch 21/25\n",
      "\u001b[1m27/27\u001b[0m \u001b[32m━━━━━━━━━━━━━━━━━━━━\u001b[0m\u001b[37m\u001b[0m \u001b[1m1s\u001b[0m 46ms/step - loss: 0.0062\n",
      "Epoch 22/25\n",
      "\u001b[1m27/27\u001b[0m \u001b[32m━━━━━━━━━━━━━━━━━━━━\u001b[0m\u001b[37m\u001b[0m \u001b[1m1s\u001b[0m 47ms/step - loss: 0.0051\n",
      "Epoch 23/25\n",
      "\u001b[1m27/27\u001b[0m \u001b[32m━━━━━━━━━━━━━━━━━━━━\u001b[0m\u001b[37m\u001b[0m \u001b[1m1s\u001b[0m 50ms/step - loss: 0.0057\n",
      "Epoch 24/25\n",
      "\u001b[1m27/27\u001b[0m \u001b[32m━━━━━━━━━━━━━━━━━━━━\u001b[0m\u001b[37m\u001b[0m \u001b[1m1s\u001b[0m 50ms/step - loss: 0.0052\n",
      "Epoch 25/25\n",
      "\u001b[1m27/27\u001b[0m \u001b[32m━━━━━━━━━━━━━━━━━━━━\u001b[0m\u001b[37m\u001b[0m \u001b[1m1s\u001b[0m 46ms/step - loss: 0.0054\n"
     ]
    },
    {
     "data": {
      "text/plain": [
       "<keras.src.callbacks.history.History at 0x1211b9ed890>"
      ]
     },
     "execution_count": 22,
     "metadata": {},
     "output_type": "execute_result"
    }
   ],
   "source": [
    "# Now we are going to train this model with our training data \n",
    "# (x_train, y_train)\n",
    "model.fit(x_train, y_train, epochs=25, batch_size=32)\n",
    "# Other parameters to consider: How many rounds(epochs) are we going to \n",
    "# train our model? Typically, the more the better, but be careful about\n",
    "# overfitting!\n",
    "# What about batch_size? Well, again, please refer to \n",
    "# Lecture Week 6 (COS30018): If you update your model for each and every \n",
    "# input sample, then there are potentially 2 issues: 1. If you training \n",
    "# data is very big (billions of input samples) then it will take VERY long;\n",
    "# 2. Each and every input can immediately makes changes to your model\n",
    "# (a souce of overfitting). Thus, we do this in batches: We'll look at\n",
    "# the aggreated errors/losses from a batch of, say, 32 input samples\n",
    "# and update our model based on this aggregated loss."
   ]
  },
  {
   "cell_type": "markdown",
   "id": "37e32932",
   "metadata": {},
   "source": [
    "TO DO:\n",
    "Save the model and reload it\n",
    "Sometimes, it takes a lot of effort to train your model (again, look at\n",
    "a training data with billions of input samples). Thus, after spending so \n",
    "much computing power to train your model, you may want to save it so that\n",
    "in the future, when you want to make the prediction, you only need to load\n",
    "your pre-trained model and run it on the new input for which the prediction\n",
    "need to be made."
   ]
  },
  {
   "cell_type": "code",
   "execution_count": 23,
   "id": "b8f40888",
   "metadata": {},
   "outputs": [],
   "source": [
    "#------------------------------------------------------------------------------\n",
    "# Test the model accuracy on existing data\n",
    "#------------------------------------------------------------------------------\n",
    "# Load the test data\n",
    "TEST_START = '2023-08-02'\n",
    "TEST_END = '2024-07-02'"
   ]
  },
  {
   "cell_type": "markdown",
   "id": "b522c95a",
   "metadata": {},
   "source": [
    "test_data = web.DataReader(COMPANY, DATA_SOURCE, TEST_START, TEST_END)"
   ]
  },
  {
   "cell_type": "code",
   "execution_count": 24,
   "id": "f5746c4e",
   "metadata": {
    "lines_to_next_cell": 2
   },
   "outputs": [
    {
     "name": "stderr",
     "output_type": "stream",
     "text": [
      "C:\\Users\\raj23\\AppData\\Local\\Temp\\ipykernel_33336\\448349976.py:1: FutureWarning: YF.download() has changed argument auto_adjust default to True\n",
      "  test_data = yf.download(COMPANY,TEST_START,TEST_END)\n",
      "[*********************100%***********************]  1 of 1 completed\n"
     ]
    }
   ],
   "source": [
    "test_data = yf.download(COMPANY,TEST_START,TEST_END)"
   ]
  },
  {
   "cell_type": "markdown",
   "id": "23f95928",
   "metadata": {},
   "source": [
    "The above bug is the reason for the following line of code\n",
    "test_data = test_data[1:]"
   ]
  },
  {
   "cell_type": "code",
   "execution_count": 25,
   "id": "b41df5fa",
   "metadata": {},
   "outputs": [],
   "source": [
    "actual_prices = test_data[PRICE_VALUE].values"
   ]
  },
  {
   "cell_type": "code",
   "execution_count": 26,
   "id": "98ccab7e",
   "metadata": {},
   "outputs": [],
   "source": [
    "total_dataset = pd.concat((data[PRICE_VALUE], test_data[PRICE_VALUE]), axis=0)"
   ]
  },
  {
   "cell_type": "code",
   "execution_count": 27,
   "id": "784f411d",
   "metadata": {},
   "outputs": [],
   "source": [
    "model_inputs = total_dataset[len(total_dataset) - len(test_data) - PREDICTION_DAYS:].values\n",
    "# We need to do the above because to predict the closing price of the fisrt\n",
    "# PREDICTION_DAYS of the test period [TEST_START, TEST_END], we'll need the \n",
    "# data from the training period"
   ]
  },
  {
   "cell_type": "code",
   "execution_count": 28,
   "id": "66ec63d9",
   "metadata": {},
   "outputs": [],
   "source": [
    "model_inputs = model_inputs.reshape(-1, 1)\n",
    "# TO DO: Explain the above line"
   ]
  },
  {
   "cell_type": "code",
   "execution_count": 29,
   "id": "c0e5e63a",
   "metadata": {},
   "outputs": [],
   "source": [
    "model_inputs = scaler.transform(model_inputs)\n",
    "# We again normalize our closing price data to fit them into the range (0,1)\n",
    "# using the same scaler used above \n",
    "# However, there may be a problem: scaler was computed on the basis of\n",
    "# the Max/Min of the stock price for the period [TRAIN_START, TRAIN_END],\n",
    "# but there may be a lower/higher price during the test period \n",
    "# [TEST_START, TEST_END]. That can lead to out-of-bound values (negative and\n",
    "# greater than one)\n",
    "# We'll call this ISSUE #2"
   ]
  },
  {
   "cell_type": "markdown",
   "id": "14d4ac50",
   "metadata": {},
   "source": [
    "TO DO: Generally, there is a better way to process the data so that we \n",
    "can use part of it for training and the rest for testing. You need to \n",
    "implement such a way"
   ]
  },
  {
   "cell_type": "code",
   "execution_count": 30,
   "id": "1c37f767",
   "metadata": {},
   "outputs": [],
   "source": [
    "#------------------------------------------------------------------------------\n",
    "# Make predictions on test data\n",
    "#------------------------------------------------------------------------------\n",
    "x_test = []\n",
    "for x in range(PREDICTION_DAYS, len(model_inputs)):\n",
    "    x_test.append(model_inputs[x - PREDICTION_DAYS:x, 0])"
   ]
  },
  {
   "cell_type": "code",
   "execution_count": 31,
   "id": "0d333efb",
   "metadata": {},
   "outputs": [],
   "source": [
    "x_test = np.array(x_test)\n",
    "x_test = np.reshape(x_test, (x_test.shape[0], x_test.shape[1], 1))\n",
    "# TO DO: Explain the above 5 lines"
   ]
  },
  {
   "cell_type": "code",
   "execution_count": 32,
   "id": "c3984b56",
   "metadata": {},
   "outputs": [
    {
     "name": "stdout",
     "output_type": "stream",
     "text": [
      "\u001b[1m8/8\u001b[0m \u001b[32m━━━━━━━━━━━━━━━━━━━━\u001b[0m\u001b[37m\u001b[0m \u001b[1m1s\u001b[0m 76ms/step\n"
     ]
    }
   ],
   "source": [
    "predicted_prices = model.predict(x_test)\n",
    "predicted_prices = scaler.inverse_transform(predicted_prices)\n",
    "# Clearly, as we transform our data into the normalized range (0,1),\n",
    "# we now need to reverse this transformation \n",
    "#------------------------------------------------------------------------------\n",
    "# Plot the test predictions\n",
    "## To do:\n",
    "# 1) Candle stick charts\n",
    "# 2) Chart showing High & Lows of the day\n",
    "# 3) Show chart of next few days (predicted)\n",
    "#------------------------------------------------------------------------------"
   ]
  },
  {
   "cell_type": "code",
   "execution_count": 33,
   "id": "9dcbef9f",
   "metadata": {},
   "outputs": [
    {
     "data": {
      "image/png": "[encoded data removed]",
      "text/plain": [
       "<Figure size 640x480 with 1 Axes>"
      ]
     },
     "metadata": {},
     "output_type": "display_data"
    }
   ],
   "source": [
    "plt.plot(actual_prices, color=\"black\", label=f\"Actual {COMPANY} Price\")\n",
    "plt.plot(predicted_prices, color=\"green\", label=f\"Predicted {COMPANY} Price\")\n",
    "plt.title(f\"{COMPANY} Share Price\")\n",
    "plt.xlabel(\"Time\")\n",
    "plt.ylabel(f\"{COMPANY} Share Price\")\n",
    "plt.legend()\n",
    "plt.show()"
   ]
  },
  {
   "cell_type": "markdown",
   "id": "217df369",
   "metadata": {
    "lines_to_next_cell": 2
   },
   "source": [
    "------------------------------------------------------------------------------\n",
    "Predict next day\n",
    "------------------------------------------------------------------------------"
   ]
  },
  {
   "cell_type": "code",
   "execution_count": 34,
   "id": "5577da36",
   "metadata": {},
   "outputs": [],
   "source": [
    "real_data = [model_inputs[len(model_inputs) - PREDICTION_DAYS:, 0]]\n",
    "real_data = np.array(real_data)\n",
    "real_data = np.reshape(real_data, (real_data.shape[0], real_data.shape[1], 1))"
   ]
  },
  {
   "cell_type": "code",
   "execution_count": 35,
   "id": "be54098a",
   "metadata": {},
   "outputs": [
    {
     "name": "stdout",
     "output_type": "stream",
     "text": [
      "\u001b[1m1/1\u001b[0m \u001b[32m━━━━━━━━━━━━━━━━━━━━\u001b[0m\u001b[37m\u001b[0m \u001b[1m0s\u001b[0m 76ms/step\n",
      "Prediction: [[110.582214]]\n"
     ]
    }
   ],
   "source": [
    "prediction = model.predict(real_data)\n",
    "prediction = scaler.inverse_transform(prediction)\n",
    "print(f\"Prediction: {prediction}\")"
   ]
  },
  {
   "cell_type": "markdown",
   "id": "9f0e1f52",
   "metadata": {},
   "source": [
    "A few concluding remarks here:\n",
    "1. The predictor is quite bad, especially if you look at the next day \n",
    "prediction, it missed the actual price by about 10%-13%\n",
    "Can you find the reason?\n",
    "2. The code base at\n",
    "https://github.com/x4nth055/pythoncode-tutorials/tree/master/machine-learning/stock-prediction\n",
    "gives a much better prediction. Even though on the surface, it didn't seem \n",
    "to be a big difference (both use Stacked LSTM)\n",
    "Again, can you explain it?\n",
    "A more advanced and quite different technique use CNN to analyse the images\n",
    "of the stock price changes to detect some patterns with the trend of\n",
    "the stock price:\n",
    "https://github.com/jason887/Using-Deep-Learning-Neural-Networks-and-Candlestick-Chart-Representation-to-Predict-Stock-Market\n",
    "Can you combine these different techniques for a better prediction??"
   ]
  }
 ],
 "metadata": {
  "jupytext": {
   "cell_metadata_filter": "-all",
   "main_language": "python",
   "notebook_metadata_filter": "-all"
  },
  "kernelspec": {
   "display_name": ".venv",
   "language": "python",
   "name": "python3"
  },
  "language_info": {
   "codemirror_mode": {
    "name": "ipython",
    "version": 3
   },
   "file_extension": ".py",
   "mimetype": "text/x-python",
   "name": "python",
   "nbconvert_exporter": "python",
   "pygments_lexer": "ipython3",
   "version": "3.11.9"
  }
 },
 "nbformat": 4,
 "nbformat_minor": 5
}
